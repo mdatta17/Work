{
  "nbformat": 4,
  "nbformat_minor": 0,
  "metadata": {
    "kernelspec": {
      "display_name": "Python 3",
      "language": "python",
      "name": "python3"
    },
    "language_info": {
      "codemirror_mode": {
        "name": "ipython",
        "version": 3
      },
      "file_extension": ".py",
      "mimetype": "text/x-python",
      "name": "python",
      "nbconvert_exporter": "python",
      "pygments_lexer": "ipython3",
      "version": "3.7.3"
    },
    "colab": {
      "name": "Music Recommendation",
      "provenance": [],
      "collapsed_sections": [],
      "include_colab_link": true
    }
  },
  "cells": [
    {
      "cell_type": "markdown",
      "metadata": {
        "id": "view-in-github",
        "colab_type": "text"
      },
      "source": [
        "<a href=\"https://colab.research.google.com/github/mdatta17/Work/blob/master/Music_Recommendation.ipynb\" target=\"_parent\"><img src=\"https://colab.research.google.com/assets/colab-badge.svg\" alt=\"Open In Colab\"/></a>"
      ]
    },
    {
      "cell_type": "code",
      "metadata": {
        "id": "SydLv0i6kllt",
        "colab_type": "code",
        "colab": {}
      },
      "source": [
        "import numpy as np\n",
        "import pandas as pd\n",
        "import seaborn as sns\n",
        "from matplotlib import pyplot as plt\n",
        "import missingno as msno\n",
        "%matplotlib inline"
      ],
      "execution_count": 54,
      "outputs": []
    },
    {
      "cell_type": "code",
      "metadata": {
        "id": "1gFLVd5lNsOt",
        "colab_type": "code",
        "colab": {
          "base_uri": "https://localhost:8080/",
          "height": 34
        },
        "outputId": "6eff8d2e-a4d6-4084-ae99-e8f94f998bab"
      },
      "source": [
        "from google.colab import drive\n",
        "drive.mount('/content/gdrive', force_remount=True)"
      ],
      "execution_count": 55,
      "outputs": [
        {
          "output_type": "stream",
          "text": [
            "Mounted at /content/gdrive\n"
          ],
          "name": "stdout"
        }
      ]
    },
    {
      "cell_type": "code",
      "metadata": {
        "id": "xbIh7FWqkll2",
        "colab_type": "code",
        "colab": {}
      },
      "source": [
        "train =pd.read_csv(\"/content/gdrive/My Drive//Music/train.csv\")\n",
        "test = pd.read_csv('/content/gdrive/My Drive//Music/test.csv')\n",
        "songs = pd.read_csv('/content/gdrive/My Drive//Music/songs.csv')\n",
        "members= pd.read_csv('/content/gdrive/My Drive//Music/members.csv')"
      ],
      "execution_count": 56,
      "outputs": []
    },
    {
      "cell_type": "code",
      "metadata": {
        "id": "n1lTZ8fKkll8",
        "colab_type": "code",
        "colab": {
          "base_uri": "https://localhost:8080/",
          "height": 195
        },
        "outputId": "1878e1d4-7ff0-4024-c467-5d035be6eede"
      },
      "source": [
        "train.head()"
      ],
      "execution_count": 57,
      "outputs": [
        {
          "output_type": "execute_result",
          "data": {
            "text/html": [
              "<div>\n",
              "<style scoped>\n",
              "    .dataframe tbody tr th:only-of-type {\n",
              "        vertical-align: middle;\n",
              "    }\n",
              "\n",
              "    .dataframe tbody tr th {\n",
              "        vertical-align: top;\n",
              "    }\n",
              "\n",
              "    .dataframe thead th {\n",
              "        text-align: right;\n",
              "    }\n",
              "</style>\n",
              "<table border=\"1\" class=\"dataframe\">\n",
              "  <thead>\n",
              "    <tr style=\"text-align: right;\">\n",
              "      <th></th>\n",
              "      <th>msno</th>\n",
              "      <th>song_id</th>\n",
              "      <th>source_system_tab</th>\n",
              "      <th>source_screen_name</th>\n",
              "      <th>source_type</th>\n",
              "      <th>target</th>\n",
              "    </tr>\n",
              "  </thead>\n",
              "  <tbody>\n",
              "    <tr>\n",
              "      <th>0</th>\n",
              "      <td>FGtllVqz18RPiwJj/edr2gV78zirAiY/9SmYvia+kCg=</td>\n",
              "      <td>BBzumQNXUHKdEBOB7mAJuzok+IJA1c2Ryg/yzTF6tik=</td>\n",
              "      <td>explore</td>\n",
              "      <td>Explore</td>\n",
              "      <td>online-playlist</td>\n",
              "      <td>1</td>\n",
              "    </tr>\n",
              "    <tr>\n",
              "      <th>1</th>\n",
              "      <td>Xumu+NIjS6QYVxDS4/t3SawvJ7viT9hPKXmf0RtLNx8=</td>\n",
              "      <td>bhp/MpSNoqoxOIB+/l8WPqu6jldth4DIpCm3ayXnJqM=</td>\n",
              "      <td>my library</td>\n",
              "      <td>Local playlist more</td>\n",
              "      <td>local-playlist</td>\n",
              "      <td>1</td>\n",
              "    </tr>\n",
              "    <tr>\n",
              "      <th>2</th>\n",
              "      <td>Xumu+NIjS6QYVxDS4/t3SawvJ7viT9hPKXmf0RtLNx8=</td>\n",
              "      <td>JNWfrrC7zNN7BdMpsISKa4Mw+xVJYNnxXh3/Epw7QgY=</td>\n",
              "      <td>my library</td>\n",
              "      <td>Local playlist more</td>\n",
              "      <td>local-playlist</td>\n",
              "      <td>1</td>\n",
              "    </tr>\n",
              "    <tr>\n",
              "      <th>3</th>\n",
              "      <td>Xumu+NIjS6QYVxDS4/t3SawvJ7viT9hPKXmf0RtLNx8=</td>\n",
              "      <td>2A87tzfnJTSWqD7gIZHisolhe4DMdzkbd6LzO1KHjNs=</td>\n",
              "      <td>my library</td>\n",
              "      <td>Local playlist more</td>\n",
              "      <td>local-playlist</td>\n",
              "      <td>1</td>\n",
              "    </tr>\n",
              "    <tr>\n",
              "      <th>4</th>\n",
              "      <td>FGtllVqz18RPiwJj/edr2gV78zirAiY/9SmYvia+kCg=</td>\n",
              "      <td>3qm6XTZ6MOCU11x8FIVbAGH5l5uMkT3/ZalWG1oo2Gc=</td>\n",
              "      <td>explore</td>\n",
              "      <td>Explore</td>\n",
              "      <td>online-playlist</td>\n",
              "      <td>1</td>\n",
              "    </tr>\n",
              "  </tbody>\n",
              "</table>\n",
              "</div>"
            ],
            "text/plain": [
              "                                           msno  ... target\n",
              "0  FGtllVqz18RPiwJj/edr2gV78zirAiY/9SmYvia+kCg=  ...      1\n",
              "1  Xumu+NIjS6QYVxDS4/t3SawvJ7viT9hPKXmf0RtLNx8=  ...      1\n",
              "2  Xumu+NIjS6QYVxDS4/t3SawvJ7viT9hPKXmf0RtLNx8=  ...      1\n",
              "3  Xumu+NIjS6QYVxDS4/t3SawvJ7viT9hPKXmf0RtLNx8=  ...      1\n",
              "4  FGtllVqz18RPiwJj/edr2gV78zirAiY/9SmYvia+kCg=  ...      1\n",
              "\n",
              "[5 rows x 6 columns]"
            ]
          },
          "metadata": {
            "tags": []
          },
          "execution_count": 57
        }
      ]
    },
    {
      "cell_type": "code",
      "metadata": {
        "id": "qCsp9MxbklmC",
        "colab_type": "code",
        "colab": {
          "base_uri": "https://localhost:8080/",
          "height": 195
        },
        "outputId": "3e938e62-92da-4d88-b7ff-e2f2373c7a07"
      },
      "source": [
        "songs.head()"
      ],
      "execution_count": 58,
      "outputs": [
        {
          "output_type": "execute_result",
          "data": {
            "text/html": [
              "<div>\n",
              "<style scoped>\n",
              "    .dataframe tbody tr th:only-of-type {\n",
              "        vertical-align: middle;\n",
              "    }\n",
              "\n",
              "    .dataframe tbody tr th {\n",
              "        vertical-align: top;\n",
              "    }\n",
              "\n",
              "    .dataframe thead th {\n",
              "        text-align: right;\n",
              "    }\n",
              "</style>\n",
              "<table border=\"1\" class=\"dataframe\">\n",
              "  <thead>\n",
              "    <tr style=\"text-align: right;\">\n",
              "      <th></th>\n",
              "      <th>song_id</th>\n",
              "      <th>song_length</th>\n",
              "      <th>genre_ids</th>\n",
              "      <th>artist_name</th>\n",
              "      <th>composer</th>\n",
              "      <th>lyricist</th>\n",
              "      <th>language</th>\n",
              "    </tr>\n",
              "  </thead>\n",
              "  <tbody>\n",
              "    <tr>\n",
              "      <th>0</th>\n",
              "      <td>CXoTN1eb7AI+DntdU1vbcwGRV4SCIDxZu+YD8JP8r4E=</td>\n",
              "      <td>247640</td>\n",
              "      <td>465</td>\n",
              "      <td>張信哲 (Jeff Chang)</td>\n",
              "      <td>董貞</td>\n",
              "      <td>何啟弘</td>\n",
              "      <td>3</td>\n",
              "    </tr>\n",
              "    <tr>\n",
              "      <th>1</th>\n",
              "      <td>o0kFgae9QtnYgRkVPqLJwa05zIhRlUjfF7O1tDw0ZDU=</td>\n",
              "      <td>197328</td>\n",
              "      <td>444</td>\n",
              "      <td>BLACKPINK</td>\n",
              "      <td>TEDDY|  FUTURE BOUNCE|  Bekuh BOOM</td>\n",
              "      <td>TEDDY</td>\n",
              "      <td>31</td>\n",
              "    </tr>\n",
              "    <tr>\n",
              "      <th>2</th>\n",
              "      <td>DwVvVurfpuz+XPuFvucclVQEyPqcpUkHR0ne1RQzPs0=</td>\n",
              "      <td>231781</td>\n",
              "      <td>465</td>\n",
              "      <td>SUPER JUNIOR</td>\n",
              "      <td>NaN</td>\n",
              "      <td>NaN</td>\n",
              "      <td>31</td>\n",
              "    </tr>\n",
              "    <tr>\n",
              "      <th>3</th>\n",
              "      <td>dKMBWoZyScdxSkihKG+Vf47nc18N9q4m58+b4e7dSSE=</td>\n",
              "      <td>273554</td>\n",
              "      <td>465</td>\n",
              "      <td>S.H.E</td>\n",
              "      <td>湯小康</td>\n",
              "      <td>徐世珍</td>\n",
              "      <td>3</td>\n",
              "    </tr>\n",
              "    <tr>\n",
              "      <th>4</th>\n",
              "      <td>W3bqWd3T+VeHFzHAUfARgW9AvVRaF4N5Yzm4Mr6Eo/o=</td>\n",
              "      <td>140329</td>\n",
              "      <td>726</td>\n",
              "      <td>貴族精選</td>\n",
              "      <td>Traditional</td>\n",
              "      <td>Traditional</td>\n",
              "      <td>52</td>\n",
              "    </tr>\n",
              "  </tbody>\n",
              "</table>\n",
              "</div>"
            ],
            "text/plain": [
              "                                        song_id  ...  language\n",
              "0  CXoTN1eb7AI+DntdU1vbcwGRV4SCIDxZu+YD8JP8r4E=  ...         3\n",
              "1  o0kFgae9QtnYgRkVPqLJwa05zIhRlUjfF7O1tDw0ZDU=  ...        31\n",
              "2  DwVvVurfpuz+XPuFvucclVQEyPqcpUkHR0ne1RQzPs0=  ...        31\n",
              "3  dKMBWoZyScdxSkihKG+Vf47nc18N9q4m58+b4e7dSSE=  ...         3\n",
              "4  W3bqWd3T+VeHFzHAUfARgW9AvVRaF4N5Yzm4Mr6Eo/o=  ...        52\n",
              "\n",
              "[5 rows x 7 columns]"
            ]
          },
          "metadata": {
            "tags": []
          },
          "execution_count": 58
        }
      ]
    },
    {
      "cell_type": "code",
      "metadata": {
        "id": "6_tCOI18klmG",
        "colab_type": "code",
        "colab": {
          "base_uri": "https://localhost:8080/",
          "height": 195
        },
        "outputId": "71691413-bdf6-4405-f959-5bc934741f94"
      },
      "source": [
        "members.head()"
      ],
      "execution_count": 59,
      "outputs": [
        {
          "output_type": "execute_result",
          "data": {
            "text/html": [
              "<div>\n",
              "<style scoped>\n",
              "    .dataframe tbody tr th:only-of-type {\n",
              "        vertical-align: middle;\n",
              "    }\n",
              "\n",
              "    .dataframe tbody tr th {\n",
              "        vertical-align: top;\n",
              "    }\n",
              "\n",
              "    .dataframe thead th {\n",
              "        text-align: right;\n",
              "    }\n",
              "</style>\n",
              "<table border=\"1\" class=\"dataframe\">\n",
              "  <thead>\n",
              "    <tr style=\"text-align: right;\">\n",
              "      <th></th>\n",
              "      <th>msno</th>\n",
              "      <th>city</th>\n",
              "      <th>bd</th>\n",
              "      <th>gender</th>\n",
              "      <th>registered_via</th>\n",
              "      <th>registration_init_time</th>\n",
              "      <th>expiration_date</th>\n",
              "    </tr>\n",
              "  </thead>\n",
              "  <tbody>\n",
              "    <tr>\n",
              "      <th>0</th>\n",
              "      <td>XQxgAYj3klVKjR3oxPPXYYFp4soD4TuBghkhMTD4oTw=</td>\n",
              "      <td>1</td>\n",
              "      <td>0</td>\n",
              "      <td>NaN</td>\n",
              "      <td>7</td>\n",
              "      <td>20110820</td>\n",
              "      <td>20170920</td>\n",
              "    </tr>\n",
              "    <tr>\n",
              "      <th>1</th>\n",
              "      <td>UizsfmJb9mV54qE9hCYyU07Va97c0lCRLEQX3ae+ztM=</td>\n",
              "      <td>1</td>\n",
              "      <td>0</td>\n",
              "      <td>NaN</td>\n",
              "      <td>7</td>\n",
              "      <td>20150628</td>\n",
              "      <td>20170622</td>\n",
              "    </tr>\n",
              "    <tr>\n",
              "      <th>2</th>\n",
              "      <td>D8nEhsIOBSoE6VthTaqDX8U6lqjJ7dLdr72mOyLya2A=</td>\n",
              "      <td>1</td>\n",
              "      <td>0</td>\n",
              "      <td>NaN</td>\n",
              "      <td>4</td>\n",
              "      <td>20160411</td>\n",
              "      <td>20170712</td>\n",
              "    </tr>\n",
              "    <tr>\n",
              "      <th>3</th>\n",
              "      <td>mCuD+tZ1hERA/o5GPqk38e041J8ZsBaLcu7nGoIIvhI=</td>\n",
              "      <td>1</td>\n",
              "      <td>0</td>\n",
              "      <td>NaN</td>\n",
              "      <td>9</td>\n",
              "      <td>20150906</td>\n",
              "      <td>20150907</td>\n",
              "    </tr>\n",
              "    <tr>\n",
              "      <th>4</th>\n",
              "      <td>q4HRBfVSssAFS9iRfxWrohxuk9kCYMKjHOEagUMV6rQ=</td>\n",
              "      <td>1</td>\n",
              "      <td>0</td>\n",
              "      <td>NaN</td>\n",
              "      <td>4</td>\n",
              "      <td>20170126</td>\n",
              "      <td>20170613</td>\n",
              "    </tr>\n",
              "  </tbody>\n",
              "</table>\n",
              "</div>"
            ],
            "text/plain": [
              "                                           msno  ...  expiration_date\n",
              "0  XQxgAYj3klVKjR3oxPPXYYFp4soD4TuBghkhMTD4oTw=  ...         20170920\n",
              "1  UizsfmJb9mV54qE9hCYyU07Va97c0lCRLEQX3ae+ztM=  ...         20170622\n",
              "2  D8nEhsIOBSoE6VthTaqDX8U6lqjJ7dLdr72mOyLya2A=  ...         20170712\n",
              "3  mCuD+tZ1hERA/o5GPqk38e041J8ZsBaLcu7nGoIIvhI=  ...         20150907\n",
              "4  q4HRBfVSssAFS9iRfxWrohxuk9kCYMKjHOEagUMV6rQ=  ...         20170613\n",
              "\n",
              "[5 rows x 7 columns]"
            ]
          },
          "metadata": {
            "tags": []
          },
          "execution_count": 59
        }
      ]
    },
    {
      "cell_type": "code",
      "metadata": {
        "id": "tneGwNZvklmK",
        "colab_type": "code",
        "colab": {
          "base_uri": "https://localhost:8080/",
          "height": 235
        },
        "outputId": "feb4de8c-a1e8-4fc8-da85-85e2f611add6"
      },
      "source": [
        "train.info()"
      ],
      "execution_count": 60,
      "outputs": [
        {
          "output_type": "stream",
          "text": [
            "<class 'pandas.core.frame.DataFrame'>\n",
            "RangeIndex: 19999 entries, 0 to 19998\n",
            "Data columns (total 6 columns):\n",
            " #   Column              Non-Null Count  Dtype \n",
            "---  ------              --------------  ----- \n",
            " 0   msno                19999 non-null  object\n",
            " 1   song_id             19999 non-null  object\n",
            " 2   source_system_tab   19932 non-null  object\n",
            " 3   source_screen_name  19423 non-null  object\n",
            " 4   source_type         19949 non-null  object\n",
            " 5   target              19999 non-null  int64 \n",
            "dtypes: int64(1), object(5)\n",
            "memory usage: 937.6+ KB\n"
          ],
          "name": "stdout"
        }
      ]
    },
    {
      "cell_type": "code",
      "metadata": {
        "id": "2YfMzUWzklmN",
        "colab_type": "code",
        "colab": {
          "base_uri": "https://localhost:8080/",
          "height": 252
        },
        "outputId": "aeccfe0f-4483-43fb-e1bb-c7e75ddc98a8"
      },
      "source": [
        "songs.info()"
      ],
      "execution_count": 61,
      "outputs": [
        {
          "output_type": "stream",
          "text": [
            "<class 'pandas.core.frame.DataFrame'>\n",
            "RangeIndex: 39999 entries, 0 to 39998\n",
            "Data columns (total 7 columns):\n",
            " #   Column       Non-Null Count  Dtype \n",
            "---  ------       --------------  ----- \n",
            " 0   song_id      39999 non-null  object\n",
            " 1   song_length  39999 non-null  int64 \n",
            " 2   genre_ids    39282 non-null  object\n",
            " 3   artist_name  39999 non-null  object\n",
            " 4   composer     23203 non-null  object\n",
            " 5   lyricist     10913 non-null  object\n",
            " 6   language     39999 non-null  int64 \n",
            "dtypes: int64(2), object(5)\n",
            "memory usage: 2.1+ MB\n"
          ],
          "name": "stdout"
        }
      ]
    },
    {
      "cell_type": "code",
      "metadata": {
        "id": "EOzC9zGRklmR",
        "colab_type": "code",
        "colab": {
          "base_uri": "https://localhost:8080/",
          "height": 252
        },
        "outputId": "703882ff-4fbe-4fc8-cf95-1884736cf853"
      },
      "source": [
        "members.info()"
      ],
      "execution_count": 62,
      "outputs": [
        {
          "output_type": "stream",
          "text": [
            "<class 'pandas.core.frame.DataFrame'>\n",
            "RangeIndex: 34403 entries, 0 to 34402\n",
            "Data columns (total 7 columns):\n",
            " #   Column                  Non-Null Count  Dtype \n",
            "---  ------                  --------------  ----- \n",
            " 0   msno                    34403 non-null  object\n",
            " 1   city                    34403 non-null  int64 \n",
            " 2   bd                      34403 non-null  int64 \n",
            " 3   gender                  14501 non-null  object\n",
            " 4   registered_via          34403 non-null  int64 \n",
            " 5   registration_init_time  34403 non-null  int64 \n",
            " 6   expiration_date         34403 non-null  int64 \n",
            "dtypes: int64(5), object(2)\n",
            "memory usage: 1.8+ MB\n"
          ],
          "name": "stdout"
        }
      ]
    },
    {
      "cell_type": "code",
      "metadata": {
        "id": "USEHvjQZklmX",
        "colab_type": "code",
        "colab": {
          "base_uri": "https://localhost:8080/",
          "height": 441
        },
        "outputId": "4b0650b0-faa6-4078-81e8-24fd8df9ee88"
      },
      "source": [
        "import seaborn as sns\n",
        "plt.figure(figsize=(8,6))\n",
        "ax= sns.countplot(x='source_type', data=train)\n",
        "ax.set_xticklabels(ax.get_xticklabels(), rotation=40, ha='right')\n",
        "plt.tight_layout()\n",
        "plt.show()"
      ],
      "execution_count": 63,
      "outputs": [
        {
          "output_type": "display_data",
          "data": {
            "image/png": "[encoded data removed]",
            "text/plain": [
              "<Figure size 576x432 with 1 Axes>"
            ]
          },
          "metadata": {
            "tags": [],
            "needs_background": "light"
          }
        }
      ]
    },
    {
      "cell_type": "code",
      "metadata": {
        "id": "nvy0SPHAklmb",
        "colab_type": "code",
        "colab": {
          "base_uri": "https://localhost:8080/",
          "height": 441
        },
        "outputId": "fd12a1d4-1600-4542-8e89-5f93a8c6b2ab"
      },
      "source": [
        "import seaborn as sns\n",
        "plt.figure(figsize=(8,6))\n",
        "ax= sns.countplot(x='source_system_tab', data=train)\n",
        "ax.set_xticklabels(ax.get_xticklabels(), rotation=40, ha='left')\n",
        "plt.tight_layout()\n",
        "plt.show()"
      ],
      "execution_count": 64,
      "outputs": [
        {
          "output_type": "display_data",
          "data": {
            "image/png": "[encoded data removed]",
            "text/plain": [
              "<Figure size 576x432 with 1 Axes>"
            ]
          },
          "metadata": {
            "tags": [],
            "needs_background": "light"
          }
        }
      ]
    },
    {
      "cell_type": "code",
      "metadata": {
        "id": "fdiCa8xuklmf",
        "colab_type": "code",
        "colab": {
          "base_uri": "https://localhost:8080/",
          "height": 388
        },
        "outputId": "3aa0ea1a-b894-4e90-fb33-16f4b57e099b"
      },
      "source": [
        "plt.figure(figsize=(8,6))\n",
        "ax=sns.countplot(y=train['source_screen_name'],data=train, facecolor=(0,0,0,0), linewidth =5,\n",
        "                edgecolor= sns.color_palette('dark',3))\n",
        "plt.show()"
      ],
      "execution_count": 65,
      "outputs": [
        {
          "output_type": "display_data",
          "data": {
            "image/png": "[encoded data removed]",
            "text/plain": [
              "<Figure size 576x432 with 1 Axes>"
            ]
          },
          "metadata": {
            "tags": [],
            "needs_background": "light"
          }
        }
      ]
    },
    {
      "cell_type": "code",
      "metadata": {
        "id": "4eXj896yklmi",
        "colab_type": "code",
        "colab": {
          "base_uri": "https://localhost:8080/",
          "height": 466
        },
        "outputId": "fe68488e-600e-4436-afc6-9b7556c1dac0"
      },
      "source": [
        "plt.figure(figsize=(8,8))\n",
        "pp= pd.value_counts(members.gender)\n",
        "pp.plot.pie(startangle=90, autopct='%1.1f%%', shadow= False, explode= (0.05,0.05))\n",
        "plt.axis('equal')\n",
        "plt.show()"
      ],
      "execution_count": 66,
      "outputs": [
        {
          "output_type": "display_data",
          "data": {
            "image/png": "[encoded data removed]",
            "text/plain": [
              "<Figure size 576x576 with 1 Axes>"
            ]
          },
          "metadata": {
            "tags": []
          }
        }
      ]
    },
    {
      "cell_type": "markdown",
      "metadata": {
        "id": "P2TO8SQfCn4A",
        "colab_type": "text"
      },
      "source": [
        "Merging the training & test datasets"
      ]
    },
    {
      "cell_type": "code",
      "metadata": {
        "id": "NbFlPllOklml",
        "colab_type": "code",
        "colab": {
          "base_uri": "https://localhost:8080/",
          "height": 353
        },
        "outputId": "1da9f169-d132-4a38-ec5b-b9566a166584"
      },
      "source": [
        "train_members = pd.merge(train, members, on='msno', how='inner')\n",
        "train_merged= pd.merge(train_members, songs, on='song_id', how='outer')\n",
        "print(train_merged.head())\n",
        "print(len(train_merged.columns))\n",
        "print('\\n')\n",
        "\n",
        "\n",
        "test_members = pd.merge(test, members, on='msno', how='inner')\n",
        "test_merged= pd.merge(test_members, songs, on='song_id', how='outer')\n",
        "print(test_merged.head())\n",
        "print(len(test_merged.columns))"
      ],
      "execution_count": 67,
      "outputs": [
        {
          "output_type": "stream",
          "text": [
            "                                           msno  ... language\n",
            "0  FGtllVqz18RPiwJj/edr2gV78zirAiY/9SmYvia+kCg=  ...      NaN\n",
            "1  FGtllVqz18RPiwJj/edr2gV78zirAiY/9SmYvia+kCg=  ...      NaN\n",
            "2  FGtllVqz18RPiwJj/edr2gV78zirAiY/9SmYvia+kCg=  ...     52.0\n",
            "3  hZyOA+0yqClPLt6uIEndf8fG8szH/95eKMbaxLE5z30=  ...     52.0\n",
            "4  FGtllVqz18RPiwJj/edr2gV78zirAiY/9SmYvia+kCg=  ...      NaN\n",
            "\n",
            "[5 rows x 18 columns]\n",
            "18\n",
            "\n",
            "\n",
            "       id                                          msno  ... lyricist language\n",
            "0     0.0  V8ruy7SGk7tDm3zA51DPpn6qutt+vmKMBKa21dp54uM=  ...      NaN      NaN\n",
            "1  2954.0  mp5bRgC7VAhEpWlAiOn4jG8CD9FJZt7725f93t5i99M=  ...      NaN      NaN\n",
            "2     1.0  V8ruy7SGk7tDm3zA51DPpn6qutt+vmKMBKa21dp54uM=  ...  孫燕姿/易家揚      3.0\n",
            "3   633.0  JXkYMYNrobJ3hctOnaKNM7NbhgmyxEWJZTBD4yehfCU=  ...  孫燕姿/易家揚      3.0\n",
            "4  1745.0  yyDmZtawawvo2eqiFUlQbvmvHied65Ye+6KsMEpmoho=  ...  孫燕姿/易家揚      3.0\n",
            "\n",
            "[5 rows x 18 columns]\n",
            "18\n"
          ],
          "name": "stdout"
        }
      ]
    },
    {
      "cell_type": "code",
      "metadata": {
        "id": "rEv1P-kjklmn",
        "colab_type": "code",
        "colab": {
          "base_uri": "https://localhost:8080/",
          "height": 118
        },
        "outputId": "a625e6d8-fd6d-4003-add4-d93dcb0b4c02"
      },
      "source": [
        "print(train_merged.columns.to_series().groupby(train_merged.dtypes).groups)"
      ],
      "execution_count": 68,
      "outputs": [
        {
          "output_type": "stream",
          "text": [
            "{dtype('float64'): Index(['target', 'city', 'bd', 'registered_via', 'registration_init_time',\n",
            "       'expiration_date', 'song_length', 'language'],\n",
            "      dtype='object'), dtype('O'): Index(['msno', 'song_id', 'source_system_tab', 'source_screen_name',\n",
            "       'source_type', 'gender', 'genre_ids', 'artist_name', 'composer',\n",
            "       'lyricist'],\n",
            "      dtype='object')}\n"
          ],
          "name": "stdout"
        }
      ]
    },
    {
      "cell_type": "code",
      "metadata": {
        "id": "bsrt36iAklmq",
        "colab_type": "code",
        "colab": {
          "base_uri": "https://localhost:8080/",
          "height": 118
        },
        "outputId": "ab045f98-bc87-4838-b6d3-50641d5ada5f"
      },
      "source": [
        "print(test_merged.columns.to_series().groupby(test_merged.dtypes).groups)"
      ],
      "execution_count": 69,
      "outputs": [
        {
          "output_type": "stream",
          "text": [
            "{dtype('float64'): Index(['id', 'city', 'bd', 'registered_via', 'registration_init_time',\n",
            "       'expiration_date', 'song_length', 'language'],\n",
            "      dtype='object'), dtype('O'): Index(['msno', 'song_id', 'source_system_tab', 'source_screen_name',\n",
            "       'source_type', 'gender', 'genre_ids', 'artist_name', 'composer',\n",
            "       'lyricist'],\n",
            "      dtype='object')}\n"
          ],
          "name": "stdout"
        }
      ]
    },
    {
      "cell_type": "markdown",
      "metadata": {
        "id": "-mIl0NwgDBnH",
        "colab_type": "text"
      },
      "source": [
        "A function to check for null values"
      ]
    },
    {
      "cell_type": "code",
      "metadata": {
        "id": "0IoslRYgklms",
        "colab_type": "code",
        "colab": {
          "base_uri": "https://localhost:8080/",
          "height": 356
        },
        "outputId": "a7c0cea2-1e05-4295-b1f1-e977434217b3"
      },
      "source": [
        "def check_null_values(df):\n",
        "    print(df.isnull().values.any())\n",
        "    if (df.isnull().values.any()== True):\n",
        "        columns_with_Nan = df.columns[df.isnull().any()].tolist()\n",
        "        print(columns_with_Nan)\n",
        "        for col in columns_with_Nan:\n",
        "            print('%s : %d' %(col,df[col].isnull().sum()))\n",
        "\n",
        "check_null_values(train_merged)"
      ],
      "execution_count": 70,
      "outputs": [
        {
          "output_type": "stream",
          "text": [
            "True\n",
            "['msno', 'source_system_tab', 'source_screen_name', 'source_type', 'target', 'city', 'bd', 'gender', 'registered_via', 'registration_init_time', 'expiration_date', 'song_length', 'genre_ids', 'artist_name', 'composer', 'lyricist', 'language']\n",
            "msno : 38665\n",
            "source_system_tab : 38732\n",
            "source_screen_name : 39241\n",
            "source_type : 38715\n",
            "target : 38665\n",
            "city : 38665\n",
            "bd : 38665\n",
            "gender : 46377\n",
            "registered_via : 38665\n",
            "registration_init_time : 38665\n",
            "expiration_date : 38665\n",
            "song_length : 17154\n",
            "genre_ids : 17895\n",
            "artist_name : 17154\n",
            "composer : 34148\n",
            "lyricist : 46653\n",
            "language : 17154\n"
          ],
          "name": "stdout"
        }
      ]
    },
    {
      "cell_type": "code",
      "metadata": {
        "id": "MnoQI9vpklmv",
        "colab_type": "code",
        "colab": {
          "base_uri": "https://localhost:8080/",
          "height": 356
        },
        "outputId": "66723862-d600-40d6-8f8c-40939036d092"
      },
      "source": [
        "check_null_values(test_merged)"
      ],
      "execution_count": 71,
      "outputs": [
        {
          "output_type": "stream",
          "text": [
            "True\n",
            "['id', 'msno', 'source_system_tab', 'source_screen_name', 'source_type', 'city', 'bd', 'gender', 'registered_via', 'registration_init_time', 'expiration_date', 'song_length', 'genre_ids', 'artist_name', 'composer', 'lyricist', 'language']\n",
            "id : 39524\n",
            "msno : 39524\n",
            "source_system_tab : 39527\n",
            "source_screen_name : 39742\n",
            "source_type : 39526\n",
            "city : 39524\n",
            "bd : 39524\n",
            "gender : 41665\n",
            "registered_via : 39524\n",
            "registration_init_time : 39524\n",
            "expiration_date : 39524\n",
            "song_length : 4298\n",
            "genre_ids : 5017\n",
            "artist_name : 4298\n",
            "composer : 21113\n",
            "lyricist : 33461\n",
            "language : 4298\n"
          ],
          "name": "stdout"
        }
      ]
    },
    {
      "cell_type": "markdown",
      "metadata": {
        "id": "kMHNrB6XDpcN",
        "colab_type": "text"
      },
      "source": [
        "Replacing null and float values with integer -5."
      ]
    },
    {
      "cell_type": "code",
      "metadata": {
        "id": "iw_8vL2Lklmy",
        "colab_type": "code",
        "colab": {}
      },
      "source": [
        "def replace_Nan_non_object(df):\n",
        "    object_cols=list(df.select_dtypes(include=['float']).columns)\n",
        "    for col in object_cols:\n",
        "        df[col]=df[col].fillna(np.int(-5))\n",
        "\n",
        "replace_Nan_non_object(train_merged)\n",
        "replace_Nan_non_object(test_merged)"
      ],
      "execution_count": 72,
      "outputs": []
    },
    {
      "cell_type": "markdown",
      "metadata": {
        "id": "tyiXvJXHENL2",
        "colab_type": "text"
      },
      "source": [
        "Null values of dtype 'object'"
      ]
    },
    {
      "cell_type": "code",
      "metadata": {
        "id": "vP32Xvryklm0",
        "colab_type": "code",
        "colab": {
          "base_uri": "https://localhost:8080/",
          "height": 50
        },
        "outputId": "e9375768-bb70-4482-d1dc-057683415fe8"
      },
      "source": [
        "def replace_Nan_object(df):\n",
        "    object_cols=list(df.select_dtypes(include=['object']).columns)\n",
        "    for col in object_cols:\n",
        "        df[col]=df[col].fillna(' ')\n",
        "    print(object_cols)\n",
        "\n",
        "replace_Nan_object(train_merged)\n",
        "replace_Nan_object(test_merged)"
      ],
      "execution_count": 73,
      "outputs": [
        {
          "output_type": "stream",
          "text": [
            "['msno', 'song_id', 'source_system_tab', 'source_screen_name', 'source_type', 'gender', 'genre_ids', 'artist_name', 'composer', 'lyricist']\n",
            "['msno', 'song_id', 'source_system_tab', 'source_screen_name', 'source_type', 'gender', 'genre_ids', 'artist_name', 'composer', 'lyricist']\n"
          ],
          "name": "stdout"
        }
      ]
    },
    {
      "cell_type": "code",
      "metadata": {
        "id": "l4jcjFXwklm2",
        "colab_type": "code",
        "colab": {
          "base_uri": "https://localhost:8080/",
          "height": 497
        },
        "outputId": "f1ed48f1-0b46-4b0a-9aed-a7df2f6945fb"
      },
      "source": [
        "data = train_merged.groupby('target').aggregate({'msno':'count'}).reset_index()\n",
        "a4_dims=(15,8)\n",
        "fig,ax=plt.subplots(figsize=a4_dims)\n",
        "ax= sns.barplot(x='target',y='msno',data=data)"
      ],
      "execution_count": 74,
      "outputs": [
        {
          "output_type": "display_data",
          "data": {
            "image/png": "[encoded data removed]",
            "text/plain": [
              "<Figure size 1080x576 with 1 Axes>"
            ]
          },
          "metadata": {
            "tags": [],
            "needs_background": "light"
          }
        }
      ]
    },
    {
      "cell_type": "code",
      "metadata": {
        "id": "uFYgn4oYklm5",
        "colab_type": "code",
        "colab": {
          "base_uri": "https://localhost:8080/",
          "height": 34
        },
        "outputId": "68fff436-0358-4c24-fc4b-aee834e0901d"
      },
      "source": [
        "train_merged= train_merged[train_merged.target != -5]\n",
        "len(train_merged.index)"
      ],
      "execution_count": 75,
      "outputs": [
        {
          "output_type": "execute_result",
          "data": {
            "text/plain": [
              "19999"
            ]
          },
          "metadata": {
            "tags": []
          },
          "execution_count": 75
        }
      ]
    },
    {
      "cell_type": "code",
      "metadata": {
        "id": "0TcLhPnGklm7",
        "colab_type": "code",
        "colab": {
          "base_uri": "https://localhost:8080/",
          "height": 501
        },
        "outputId": "a97d7b26-cc60-4474-ccb2-541950a867bf"
      },
      "source": [
        "data = train_merged.groupby('target').aggregate({'msno':'count'}).reset_index()\n",
        "a4_dims=(15,8)\n",
        "fig,ax=plt.subplots(figsize=a4_dims)\n",
        "ax= sns.barplot(x='target',y='msno',data=data)"
      ],
      "execution_count": 76,
      "outputs": [
        {
          "output_type": "display_data",
          "data": {
            "image/png": "[encoded data removed]",
            "text/plain": [
              "<Figure size 1080x576 with 1 Axes>"
            ]
          },
          "metadata": {
            "tags": [],
            "needs_background": "light"
          }
        }
      ]
    },
    {
      "cell_type": "code",
      "metadata": {
        "id": "bjKVQQHWklm-",
        "colab_type": "code",
        "colab": {
          "base_uri": "https://localhost:8080/",
          "height": 606
        },
        "outputId": "a9ff0712-2aae-4aee-e4e8-ff02eba39b3d"
      },
      "source": [
        "data = train_merged.groupby('language').aggregate({'msno':'count'}).reset_index()\n",
        "a4_dims=(15,7)\n",
        "fig, ax= plt.subplots(figsize=a4_dims)\n",
        "ax= sns.barplot(x='language', y='msno', data= data)\n",
        "ax.set_xticklabels(ax.get_xticklabels(), rotation=90)"
      ],
      "execution_count": 77,
      "outputs": [
        {
          "output_type": "execute_result",
          "data": {
            "text/plain": [
              "[Text(0, 0, '-5.0'),\n",
              " Text(0, 0, '-1.0'),\n",
              " Text(0, 0, '3.0'),\n",
              " Text(0, 0, '10.0'),\n",
              " Text(0, 0, '17.0'),\n",
              " Text(0, 0, '24.0'),\n",
              " Text(0, 0, '31.0'),\n",
              " Text(0, 0, '52.0'),\n",
              " Text(0, 0, '59.0')]"
            ]
          },
          "metadata": {
            "tags": []
          },
          "execution_count": 77
        },
        {
          "output_type": "display_data",
          "data": {
            "image/png": "[encoded data removed]",
            "text/plain": [
              "<Figure size 1080x504 with 1 Axes>"
            ]
          },
          "metadata": {
            "tags": [],
            "needs_background": "light"
          }
        }
      ]
    },
    {
      "cell_type": "code",
      "metadata": {
        "id": "UpT-Rjz9klnA",
        "colab_type": "code",
        "colab": {
          "base_uri": "https://localhost:8080/",
          "height": 791
        },
        "outputId": "b0213c67-22fc-4353-edf6-0ab48bcc13b7"
      },
      "source": [
        "data = train_merged.groupby('city').aggregate({'msno':'count'}).reset_index()\n",
        "a4_dims=(15,7)\n",
        "fig, ax= plt.subplots(figsize=a4_dims)\n",
        "ax= sns.barplot(x='city', y='msno', data= data)\n",
        "ax.set_xticklabels(ax.get_xticklabels(), rotation=90)"
      ],
      "execution_count": 78,
      "outputs": [
        {
          "output_type": "execute_result",
          "data": {
            "text/plain": [
              "[Text(0, 0, '1.0'),\n",
              " Text(0, 0, '3.0'),\n",
              " Text(0, 0, '4.0'),\n",
              " Text(0, 0, '5.0'),\n",
              " Text(0, 0, '6.0'),\n",
              " Text(0, 0, '7.0'),\n",
              " Text(0, 0, '8.0'),\n",
              " Text(0, 0, '9.0'),\n",
              " Text(0, 0, '10.0'),\n",
              " Text(0, 0, '11.0'),\n",
              " Text(0, 0, '12.0'),\n",
              " Text(0, 0, '13.0'),\n",
              " Text(0, 0, '14.0'),\n",
              " Text(0, 0, '15.0'),\n",
              " Text(0, 0, '16.0'),\n",
              " Text(0, 0, '17.0'),\n",
              " Text(0, 0, '18.0'),\n",
              " Text(0, 0, '20.0'),\n",
              " Text(0, 0, '21.0'),\n",
              " Text(0, 0, '22.0')]"
            ]
          },
          "metadata": {
            "tags": []
          },
          "execution_count": 78
        },
        {
          "output_type": "display_data",
          "data": {
            "image/png": "[encoded data removed]",
            "text/plain": [
              "<Figure size 1080x504 with 1 Axes>"
            ]
          },
          "metadata": {
            "tags": [],
            "needs_background": "light"
          }
        }
      ]
    },
    {
      "cell_type": "markdown",
      "metadata": {
        "id": "v6azHEEmEaRk",
        "colab_type": "text"
      },
      "source": [
        "Building the model"
      ]
    },
    {
      "cell_type": "code",
      "metadata": {
        "id": "LgkuLreVklnF",
        "colab_type": "code",
        "colab": {}
      },
      "source": [
        "df= pd.read_csv('/content/gdrive/My Drive//Music/train.csv')\n",
        "df = df.sample(frac= 0.1)\n",
        "songs = pd.read_csv('/content/gdrive/My Drive//Music/songs.csv')\n",
        "members= pd.read_csv('/content/gdrive/My Drive//Music/members.csv')\n"
      ],
      "execution_count": 79,
      "outputs": []
    },
    {
      "cell_type": "code",
      "metadata": {
        "id": "yK8d_9k2klnI",
        "colab_type": "code",
        "colab": {}
      },
      "source": [
        "df= pd.merge(df, songs, on='song_id', how='left')\n",
        "df = pd.merge(df, members, on='msno', how='left')\n",
        "\n",
        "del songs\n",
        "del members"
      ],
      "execution_count": 80,
      "outputs": []
    },
    {
      "cell_type": "code",
      "metadata": {
        "id": "oYGmHkcKklnM",
        "colab_type": "code",
        "colab": {
          "base_uri": "https://localhost:8080/",
          "height": 437
        },
        "outputId": "157856da-8846-4463-f5d5-cbf3297eb42e"
      },
      "source": [
        "df.info()"
      ],
      "execution_count": 81,
      "outputs": [
        {
          "output_type": "stream",
          "text": [
            "<class 'pandas.core.frame.DataFrame'>\n",
            "Int64Index: 2000 entries, 0 to 1999\n",
            "Data columns (total 18 columns):\n",
            " #   Column                  Non-Null Count  Dtype  \n",
            "---  ------                  --------------  -----  \n",
            " 0   msno                    2000 non-null   object \n",
            " 1   song_id                 2000 non-null   object \n",
            " 2   source_system_tab       1991 non-null   object \n",
            " 3   source_screen_name      1934 non-null   object \n",
            " 4   source_type             1995 non-null   object \n",
            " 5   target                  2000 non-null   int64  \n",
            " 6   song_length             281 non-null    float64\n",
            " 7   genre_ids               272 non-null    object \n",
            " 8   artist_name             281 non-null    object \n",
            " 9   composer                230 non-null    object \n",
            " 10  lyricist                180 non-null    object \n",
            " 11  language                281 non-null    float64\n",
            " 12  city                    2000 non-null   int64  \n",
            " 13  bd                      2000 non-null   int64  \n",
            " 14  gender                  1224 non-null   object \n",
            " 15  registered_via          2000 non-null   int64  \n",
            " 16  registration_init_time  2000 non-null   int64  \n",
            " 17  expiration_date         2000 non-null   int64  \n",
            "dtypes: float64(2), int64(6), object(10)\n",
            "memory usage: 296.9+ KB\n"
          ],
          "name": "stdout"
        }
      ]
    },
    {
      "cell_type": "code",
      "metadata": {
        "id": "4VGzgMHhklnO",
        "colab_type": "code",
        "colab": {
          "base_uri": "https://localhost:8080/",
          "height": 336
        },
        "outputId": "b204ebc7-a74e-4d79-c654-5f9d84be6c04"
      },
      "source": [
        "df.isnull().sum()/df.isnull().count()*100"
      ],
      "execution_count": 82,
      "outputs": [
        {
          "output_type": "execute_result",
          "data": {
            "text/plain": [
              "msno                       0.00\n",
              "song_id                    0.00\n",
              "source_system_tab          0.45\n",
              "source_screen_name         3.30\n",
              "source_type                0.25\n",
              "target                     0.00\n",
              "song_length               85.95\n",
              "genre_ids                 86.40\n",
              "artist_name               85.95\n",
              "composer                  88.50\n",
              "lyricist                  91.00\n",
              "language                  85.95\n",
              "city                       0.00\n",
              "bd                         0.00\n",
              "gender                    38.80\n",
              "registered_via             0.00\n",
              "registration_init_time     0.00\n",
              "expiration_date            0.00\n",
              "dtype: float64"
            ]
          },
          "metadata": {
            "tags": []
          },
          "execution_count": 82
        }
      ]
    },
    {
      "cell_type": "markdown",
      "metadata": {
        "id": "3GiL6yomEkwI",
        "colab_type": "text"
      },
      "source": [
        "Replacing the null values"
      ]
    },
    {
      "cell_type": "code",
      "metadata": {
        "id": "zfgFmEDpklnQ",
        "colab_type": "code",
        "colab": {
          "base_uri": "https://localhost:8080/",
          "height": 101
        },
        "outputId": "d2a642b2-86e4-44e6-952e-361d46dfbf0c"
      },
      "source": [
        "for i in df.select_dtypes(include=['object']).columns:\n",
        "    df[i][df[i].isnull()]='unknown'\n",
        "df= df.fillna(value=0)"
      ],
      "execution_count": 83,
      "outputs": [
        {
          "output_type": "stream",
          "text": [
            "/usr/local/lib/python3.6/dist-packages/ipykernel_launcher.py:2: SettingWithCopyWarning: \n",
            "A value is trying to be set on a copy of a slice from a DataFrame\n",
            "\n",
            "See the caveats in the documentation: https://pandas.pydata.org/pandas-docs/stable/user_guide/indexing.html#returning-a-view-versus-a-copy\n",
            "  \n"
          ],
          "name": "stderr"
        }
      ]
    },
    {
      "cell_type": "markdown",
      "metadata": {
        "id": "0-duJTneEr_g",
        "colab_type": "text"
      },
      "source": [
        "Creating Registration and expiration dates"
      ]
    },
    {
      "cell_type": "code",
      "metadata": {
        "id": "k0n6jKnUklnS",
        "colab_type": "code",
        "colab": {}
      },
      "source": [
        "df.registration_init_time = pd.to_datetime(df.registration_init_time, format='%Y%m%d', errors='ignore')\n",
        "df['registration_init_time_year'] = df['registration_init_time'].dt.year\n",
        "df['registration_init_time_month'] = df['registration_init_time'].dt.month\n",
        "df['registration_init_time_day'] = df['registration_init_time'].dt.day\n",
        "\n",
        "df.expiration_date = pd.to_datetime(df.expiration_date,  format='%Y%m%d', errors='ignore')\n",
        "df['expiration_date_year'] = df['expiration_date'].dt.year\n",
        "df['expiration_date_month'] = df['expiration_date'].dt.month\n",
        "df['expiration_date_day'] = df['expiration_date'].dt.day"
      ],
      "execution_count": 84,
      "outputs": []
    },
    {
      "cell_type": "code",
      "metadata": {
        "id": "waaqLX3TklnV",
        "colab_type": "code",
        "colab": {}
      },
      "source": [
        "df['registration_init_time'] = df['registration_init_time'].astype('category')\n",
        "df['expiration_date'] = df['expiration_date'].astype('category')"
      ],
      "execution_count": 85,
      "outputs": []
    },
    {
      "cell_type": "code",
      "metadata": {
        "id": "c17BAwi5klnX",
        "colab_type": "code",
        "colab": {}
      },
      "source": [
        "for col in df.select_dtypes(include=['object']).columns:\n",
        "    df[col]= df[col].astype('category')"
      ],
      "execution_count": 86,
      "outputs": []
    },
    {
      "cell_type": "code",
      "metadata": {
        "id": "1KvTrCXQklnZ",
        "colab_type": "code",
        "colab": {}
      },
      "source": [
        "for col in df.select_dtypes(include=['category']).columns:\n",
        "    df[col]=df[col].cat.codes"
      ],
      "execution_count": 87,
      "outputs": []
    },
    {
      "cell_type": "code",
      "metadata": {
        "id": "SimSryrAklnb",
        "colab_type": "code",
        "colab": {}
      },
      "source": [
        "df=df.drop(['expiration_date', 'lyricist'], 1)"
      ],
      "execution_count": 88,
      "outputs": []
    },
    {
      "cell_type": "code",
      "metadata": {
        "id": "darLzxGHklnd",
        "colab_type": "code",
        "colab": {
          "base_uri": "https://localhost:8080/",
          "height": 134
        },
        "outputId": "08480222-6f2a-48cb-df0a-1bc827b9e151"
      },
      "source": [
        "df.columns"
      ],
      "execution_count": 89,
      "outputs": [
        {
          "output_type": "execute_result",
          "data": {
            "text/plain": [
              "Index(['msno', 'song_id', 'source_system_tab', 'source_screen_name',\n",
              "       'source_type', 'target', 'song_length', 'genre_ids', 'artist_name',\n",
              "       'composer', 'language', 'city', 'bd', 'gender', 'registered_via',\n",
              "       'registration_init_time', 'registration_init_time_year',\n",
              "       'registration_init_time_month', 'registration_init_time_day',\n",
              "       'expiration_date_year', 'expiration_date_month', 'expiration_date_day'],\n",
              "      dtype='object')"
            ]
          },
          "metadata": {
            "tags": []
          },
          "execution_count": 89
        }
      ]
    },
    {
      "cell_type": "code",
      "metadata": {
        "id": "EJFXuaOuP1ki",
        "colab_type": "code",
        "colab": {}
      },
      "source": [
        "target = df.pop('target')"
      ],
      "execution_count": 90,
      "outputs": []
    },
    {
      "cell_type": "code",
      "metadata": {
        "id": "8PEx24WIP9Ay",
        "colab_type": "code",
        "colab": {
          "base_uri": "https://localhost:8080/",
          "height": 218
        },
        "outputId": "26fba561-0233-44b4-dfef-746cecfed33a"
      },
      "source": [
        "target"
      ],
      "execution_count": 91,
      "outputs": [
        {
          "output_type": "execute_result",
          "data": {
            "text/plain": [
              "0       1\n",
              "1       0\n",
              "2       1\n",
              "3       0\n",
              "4       0\n",
              "       ..\n",
              "1995    0\n",
              "1996    1\n",
              "1997    1\n",
              "1998    0\n",
              "1999    1\n",
              "Name: target, Length: 2000, dtype: int64"
            ]
          },
          "metadata": {
            "tags": []
          },
          "execution_count": 91
        }
      ]
    },
    {
      "cell_type": "code",
      "metadata": {
        "id": "-lHmsx3xklnf",
        "colab_type": "code",
        "colab": {}
      },
      "source": [
        "from sklearn import model_selection, metrics, ensemble\n",
        "from xgboost.sklearn import XGBClassifier"
      ],
      "execution_count": 92,
      "outputs": []
    },
    {
      "cell_type": "code",
      "metadata": {
        "id": "AkEAuErmklnh",
        "colab_type": "code",
        "colab": {}
      },
      "source": [
        "train_data, test_data, train_labels, test_labels = model_selection.train_test_split(df, target, test_size= 0.3)\n",
        "del df"
      ],
      "execution_count": 93,
      "outputs": []
    },
    {
      "cell_type": "markdown",
      "metadata": {
        "id": "gaTEmItkE7zI",
        "colab_type": "text"
      },
      "source": [
        "Radom Forest model"
      ]
    },
    {
      "cell_type": "code",
      "metadata": {
        "id": "OC2uhm_Uklnj",
        "colab_type": "code",
        "colab": {
          "base_uri": "https://localhost:8080/",
          "height": 151
        },
        "outputId": "c1032d25-e088-4fe2-e898-f6c968634ac2"
      },
      "source": [
        "model = ensemble.RandomForestClassifier(n_estimators=250, max_depth =25)\n",
        "model.fit(train_data, train_labels)"
      ],
      "execution_count": 94,
      "outputs": [
        {
          "output_type": "execute_result",
          "data": {
            "text/plain": [
              "RandomForestClassifier(bootstrap=True, ccp_alpha=0.0, class_weight=None,\n",
              "                       criterion='gini', max_depth=25, max_features='auto',\n",
              "                       max_leaf_nodes=None, max_samples=None,\n",
              "                       min_impurity_decrease=0.0, min_impurity_split=None,\n",
              "                       min_samples_leaf=1, min_samples_split=2,\n",
              "                       min_weight_fraction_leaf=0.0, n_estimators=250,\n",
              "                       n_jobs=None, oob_score=False, random_state=None,\n",
              "                       verbose=0, warm_start=False)"
            ]
          },
          "metadata": {
            "tags": []
          },
          "execution_count": 94
        }
      ]
    },
    {
      "cell_type": "code",
      "metadata": {
        "id": "YJbQ-VsXklnp",
        "colab_type": "code",
        "colab": {
          "base_uri": "https://localhost:8080/",
          "height": 34
        },
        "outputId": "ad58fac5-b032-4904-e95e-0ca9de9fe4d0"
      },
      "source": [
        "model_pred= model.predict(test_data)\n",
        "print(metrics.accuracy_score(test_labels, model_pred))"
      ],
      "execution_count": 95,
      "outputs": [
        {
          "output_type": "stream",
          "text": [
            "0.7583333333333333\n"
          ],
          "name": "stdout"
        }
      ]
    },
    {
      "cell_type": "markdown",
      "metadata": {
        "id": "sXA3NHbAFAKv",
        "colab_type": "text"
      },
      "source": [
        "XG Boost clssifier"
      ]
    },
    {
      "cell_type": "code",
      "metadata": {
        "id": "K0z8wju8klnr",
        "colab_type": "code",
        "colab": {
          "base_uri": "https://localhost:8080/",
          "height": 134
        },
        "outputId": "4f50adc7-46bf-4154-99a0-b6f95311047b"
      },
      "source": [
        "model1= XGBClassifier(learning_rate=0.1, max_depth= 15, min_child_weight=5,n_estimators= 250)\n",
        "model1.fit(train_data, train_labels)"
      ],
      "execution_count": 96,
      "outputs": [
        {
          "output_type": "execute_result",
          "data": {
            "text/plain": [
              "XGBClassifier(base_score=0.5, booster='gbtree', colsample_bylevel=1,\n",
              "              colsample_bynode=1, colsample_bytree=1, gamma=0,\n",
              "              learning_rate=0.1, max_delta_step=0, max_depth=15,\n",
              "              min_child_weight=5, missing=None, n_estimators=250, n_jobs=1,\n",
              "              nthread=None, objective='binary:logistic', random_state=0,\n",
              "              reg_alpha=0, reg_lambda=1, scale_pos_weight=1, seed=None,\n",
              "              silent=None, subsample=1, verbosity=1)"
            ]
          },
          "metadata": {
            "tags": []
          },
          "execution_count": 96
        }
      ]
    },
    {
      "cell_type": "code",
      "metadata": {
        "id": "DE_T0YIuklnu",
        "colab_type": "code",
        "colab": {
          "base_uri": "https://localhost:8080/",
          "height": 34
        },
        "outputId": "29159569-859a-4957-f945-f4aa3f323f16"
      },
      "source": [
        "model1_pred= model1.predict(test_data)\n",
        "print(metrics.accuracy_score(test_labels, model1_pred))"
      ],
      "execution_count": 97,
      "outputs": [
        {
          "output_type": "stream",
          "text": [
            "0.7516666666666667\n"
          ],
          "name": "stdout"
        }
      ]
    }
  ]
}