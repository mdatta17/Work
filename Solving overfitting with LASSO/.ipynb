{
  "nbformat": 4,
  "nbformat_minor": 0,
  "metadata": {
    "colab": {
      "name": "lasso/ridge.ipynb",
      "provenance": [],
      "authorship_tag": "ABX9TyNGCBz4SjZ6+jHT3yExLJOj",
      "include_colab_link": true
    },
    "kernelspec": {
      "name": "python3",
      "display_name": "Python 3"
    }
  },
  "cells": [
    {
      "cell_type": "markdown",
      "metadata": {
        "id": "view-in-github",
        "colab_type": "text"
      },
      "source": [
        "<a href=\"https://colab.research.google.com/github/mdatta17/Work/blob/master/lasso_ridge.ipynb\" target=\"_parent\"><img src=\"https://colab.research.google.com/assets/colab-badge.svg\" alt=\"Open In Colab\"/></a>"
      ]
    },
    {
      "cell_type": "code",
      "metadata": {
        "id": "dk5kFO_GYLgW",
        "colab_type": "code",
        "colab": {}
      },
      "source": [
        "import pandas as pd\n",
        "from sklearn.metrics import mean_squared_error\n",
        "from sklearn.model_selection import train_test_split\n",
        "from sklearn.linear_model import LinearRegression, Lasso\n",
        "from sklearn.pipeline import Pipeline\n",
        "from sklearn.preprocessing import MinMaxScaler,PolynomialFeatures"
      ],
      "execution_count": null,
      "outputs": []
    },
    {
      "cell_type": "code",
      "metadata": {
        "id": "aHIDbL0yY-Wx",
        "colab_type": "code",
        "colab": {}
      },
      "source": [
        "df = pd.read_csv('https://raw.githubusercontent.com/PacktWorkshops/The-Data-Science-Workshop/master/Chapter07/Dataset/ccpp.csv')"
      ],
      "execution_count": null,
      "outputs": []
    },
    {
      "cell_type": "code",
      "metadata": {
        "id": "S4DxyaEYZBK2",
        "colab_type": "code",
        "colab": {
          "base_uri": "https://localhost:8080/",
          "height": 218
        },
        "outputId": "61250c1f-f263-43b1-f8d9-fd7f9b9312a5"
      },
      "source": [
        "df.info()"
      ],
      "execution_count": null,
      "outputs": [
        {
          "output_type": "stream",
          "text": [
            "<class 'pandas.core.frame.DataFrame'>\n",
            "RangeIndex: 9568 entries, 0 to 9567\n",
            "Data columns (total 5 columns):\n",
            " #   Column  Non-Null Count  Dtype  \n",
            "---  ------  --------------  -----  \n",
            " 0   AT      9568 non-null   float64\n",
            " 1   V       9568 non-null   float64\n",
            " 2   AP      9568 non-null   float64\n",
            " 3   RH      9568 non-null   float64\n",
            " 4   PE      9568 non-null   float64\n",
            "dtypes: float64(5)\n",
            "memory usage: 373.9 KB\n"
          ],
          "name": "stdout"
        }
      ]
    },
    {
      "cell_type": "code",
      "metadata": {
        "id": "9zqfTBzCZPCv",
        "colab_type": "code",
        "colab": {}
      },
      "source": [
        "X=df.drop('PE',axis=1).values\n",
        "y=df[['PE']].values"
      ],
      "execution_count": null,
      "outputs": []
    },
    {
      "cell_type": "code",
      "metadata": {
        "id": "pUQVIZ9MZaBh",
        "colab_type": "code",
        "colab": {}
      },
      "source": [
        "X_train,X_eval,y_train,y_eval=train_test_split(X,y,train_size=0.8,random_state=0)"
      ],
      "execution_count": null,
      "outputs": []
    },
    {
      "cell_type": "code",
      "metadata": {
        "id": "AOUIxvQXZu8p",
        "colab_type": "code",
        "colab": {}
      },
      "source": [
        "lr_model_1=LinearRegression()"
      ],
      "execution_count": null,
      "outputs": []
    },
    {
      "cell_type": "code",
      "metadata": {
        "id": "E0m5ge7oZ0KS",
        "colab_type": "code",
        "colab": {
          "base_uri": "https://localhost:8080/",
          "height": 34
        },
        "outputId": "638c1043-560b-4442-c8c4-d3e01d56b6eb"
      },
      "source": [
        "lr_model_1.fit(X_train,y_train)"
      ],
      "execution_count": null,
      "outputs": [
        {
          "output_type": "execute_result",
          "data": {
            "text/plain": [
              "LinearRegression(copy_X=True, fit_intercept=True, n_jobs=None, normalize=False)"
            ]
          },
          "metadata": {
            "tags": []
          },
          "execution_count": 7
        }
      ]
    },
    {
      "cell_type": "code",
      "metadata": {
        "id": "GE05HuBRZ4fl",
        "colab_type": "code",
        "colab": {}
      },
      "source": [
        "lr_model_1_preds=lr_model_1.predict(X_eval)"
      ],
      "execution_count": null,
      "outputs": []
    },
    {
      "cell_type": "code",
      "metadata": {
        "id": "qAurEX8JaBHp",
        "colab_type": "code",
        "colab": {
          "base_uri": "https://localhost:8080/",
          "height": 34
        },
        "outputId": "92ea759a-f49a-4851-a290-1a3913083623"
      },
      "source": [
        "print('R2 score for lr_model:{}'.format(lr_model_1.score(X_eval,y_eval)))"
      ],
      "execution_count": null,
      "outputs": [
        {
          "output_type": "stream",
          "text": [
            "R2 score for lr_model:0.9325315554761302\n"
          ],
          "name": "stdout"
        }
      ]
    },
    {
      "cell_type": "code",
      "metadata": {
        "id": "0tjzwFEmaVY6",
        "colab_type": "code",
        "colab": {
          "base_uri": "https://localhost:8080/",
          "height": 34
        },
        "outputId": "abcd16b6-a5c1-4fda-8f89-88c01f289dfb"
      },
      "source": [
        "print('MSE:{}'.format(mean_squared_error(y_eval,lr_model_1_preds)))"
      ],
      "execution_count": null,
      "outputs": [
        {
          "output_type": "stream",
          "text": [
            "MSE:19.733699303497648\n"
          ],
          "name": "stdout"
        }
      ]
    },
    {
      "cell_type": "code",
      "metadata": {
        "id": "otjM60H-ajPx",
        "colab_type": "code",
        "colab": {}
      },
      "source": [
        "steps=[('scaler',MinMaxScaler()),\n",
        "('poly',PolynomialFeatures(degree=3)),\n",
        "('lr',LinearRegression())]"
      ],
      "execution_count": null,
      "outputs": []
    },
    {
      "cell_type": "code",
      "metadata": {
        "id": "BjmNacuRax7B",
        "colab_type": "code",
        "colab": {}
      },
      "source": [
        "lr_model_2=Pipeline(steps)"
      ],
      "execution_count": null,
      "outputs": []
    },
    {
      "cell_type": "code",
      "metadata": {
        "id": "Q9eZX4Saa7AN",
        "colab_type": "code",
        "colab": {
          "base_uri": "https://localhost:8080/",
          "height": 168
        },
        "outputId": "29d2cb5b-4207-4f41-9538-a096d34124a4"
      },
      "source": [
        "lr_model_2.fit(X_train,y_train)"
      ],
      "execution_count": null,
      "outputs": [
        {
          "output_type": "execute_result",
          "data": {
            "text/plain": [
              "Pipeline(memory=None,\n",
              "         steps=[('scaler', MinMaxScaler(copy=True, feature_range=(0, 1))),\n",
              "                ('poly',\n",
              "                 PolynomialFeatures(degree=3, include_bias=True,\n",
              "                                    interaction_only=False, order='C')),\n",
              "                ('lr',\n",
              "                 LinearRegression(copy_X=True, fit_intercept=True, n_jobs=None,\n",
              "                                  normalize=False))],\n",
              "         verbose=False)"
            ]
          },
          "metadata": {
            "tags": []
          },
          "execution_count": 13
        }
      ]
    },
    {
      "cell_type": "code",
      "metadata": {
        "id": "gSw4XWyAbAp5",
        "colab_type": "code",
        "colab": {
          "base_uri": "https://localhost:8080/",
          "height": 34
        },
        "outputId": "7fef3f6e-575c-44bc-c172-14276f0eda51"
      },
      "source": [
        "print('lr_model_2 R2:{}'.format(lr_model_2.score(X_eval,y_eval)))"
      ],
      "execution_count": null,
      "outputs": [
        {
          "output_type": "stream",
          "text": [
            "lr_model_2 R2:0.9443678654045208\n"
          ],
          "name": "stdout"
        }
      ]
    },
    {
      "cell_type": "code",
      "metadata": {
        "id": "nmyegPHxbQnK",
        "colab_type": "code",
        "colab": {}
      },
      "source": [
        "lr_model_2_preds=lr_model_2.predict(X_eval)"
      ],
      "execution_count": null,
      "outputs": []
    },
    {
      "cell_type": "code",
      "metadata": {
        "id": "mw8g88iFbYAu",
        "colab_type": "code",
        "colab": {
          "base_uri": "https://localhost:8080/",
          "height": 34
        },
        "outputId": "e86e8f16-472b-44e1-a849-f0b7fb902540"
      },
      "source": [
        "print('MSE lr_model_2:{}'.format(mean_squared_error(y_eval,lr_model_2_preds)))"
      ],
      "execution_count": null,
      "outputs": [
        {
          "output_type": "stream",
          "text": [
            "MSE lr_model_2:16.271722632207666\n"
          ],
          "name": "stdout"
        }
      ]
    },
    {
      "cell_type": "code",
      "metadata": {
        "id": "a97WIU1Abl0I",
        "colab_type": "code",
        "colab": {
          "base_uri": "https://localhost:8080/",
          "height": 168
        },
        "outputId": "c86e92ec-5b6e-4dd9-c0c7-a435b7e0f730"
      },
      "source": [
        "print(lr_model_2[-1].coef_)"
      ],
      "execution_count": null,
      "outputs": [
        {
          "output_type": "stream",
          "text": [
            "[[ 7.72661789e-14 -1.77278028e+02 -4.60337188e+01 -1.60520675e+02\n",
            "  -1.23076123e+02  6.23358210e+00  8.19655844e+00  1.45478576e+02\n",
            "   1.88658651e+02  2.43740192e+01  1.80553150e+02 -1.08058561e+02\n",
            "   1.09713294e+02  1.79121906e+02  1.06460596e+02  2.67290613e+01\n",
            "   7.79833654e+01  3.69241324e+01 -1.13863997e+02 -1.42673215e+02\n",
            "  -9.69606773e+01  1.90706809e+02 -5.56429546e+01 -1.32595225e+02\n",
            "  -9.41682917e+01  9.40112729e+01 -1.18732510e+02 -7.64871610e+01\n",
            "  -4.18714081e+01  6.36772260e+01  4.42340977e+01 -3.81114691e+01\n",
            "  -4.71547759e+01 -9.16797074e+01 -2.52346805e+01]]\n"
          ],
          "name": "stdout"
        }
      ]
    },
    {
      "cell_type": "code",
      "metadata": {
        "id": "ggh0A-DNcIOg",
        "colab_type": "code",
        "colab": {}
      },
      "source": [
        "steps = [\n",
        "    ('scaler', MinMaxScaler()),\n",
        "    ('poly', PolynomialFeatures(degree=10)),\n",
        "    ('lr', LinearRegression())\n",
        "]"
      ],
      "execution_count": null,
      "outputs": []
    },
    {
      "cell_type": "code",
      "metadata": {
        "id": "MwjXsd3kcJ3E",
        "colab_type": "code",
        "colab": {}
      },
      "source": [
        "lr_model_3=Pipeline(steps)"
      ],
      "execution_count": null,
      "outputs": []
    },
    {
      "cell_type": "code",
      "metadata": {
        "id": "q6IAjs_YcNzr",
        "colab_type": "code",
        "colab": {
          "base_uri": "https://localhost:8080/",
          "height": 168
        },
        "outputId": "efdbf227-ca77-4090-dc3c-e3f9cd91e5cc"
      },
      "source": [
        "lr_model_3.fit(X_train,y_train)"
      ],
      "execution_count": null,
      "outputs": [
        {
          "output_type": "execute_result",
          "data": {
            "text/plain": [
              "Pipeline(memory=None,\n",
              "         steps=[('scaler', MinMaxScaler(copy=True, feature_range=(0, 1))),\n",
              "                ('poly',\n",
              "                 PolynomialFeatures(degree=10, include_bias=True,\n",
              "                                    interaction_only=False, order='C')),\n",
              "                ('lr',\n",
              "                 LinearRegression(copy_X=True, fit_intercept=True, n_jobs=None,\n",
              "                                  normalize=False))],\n",
              "         verbose=False)"
            ]
          },
          "metadata": {
            "tags": []
          },
          "execution_count": 22
        }
      ]
    },
    {
      "cell_type": "code",
      "metadata": {
        "id": "JBcf6lqGcReQ",
        "colab_type": "code",
        "colab": {
          "base_uri": "https://localhost:8080/",
          "height": 34
        },
        "outputId": "0da2e37b-7301-440a-bda3-a9592235f0f8"
      },
      "source": [
        "print('lr_model_3 R2 Score: {}'.format(lr_model_3.score(X_eval, y_eval)))"
      ],
      "execution_count": null,
      "outputs": [
        {
          "output_type": "stream",
          "text": [
            "lr_model_3 R2 Score: 0.5683459493202576\n"
          ],
          "name": "stdout"
        }
      ]
    },
    {
      "cell_type": "code",
      "metadata": {
        "id": "GLCXayj5cdlY",
        "colab_type": "code",
        "colab": {}
      },
      "source": [
        "lr_model_3_preds = lr_model_3.predict(X_eval)"
      ],
      "execution_count": null,
      "outputs": []
    },
    {
      "cell_type": "code",
      "metadata": {
        "id": "cOAlyahYcfn7",
        "colab_type": "code",
        "colab": {
          "base_uri": "https://localhost:8080/",
          "height": 34
        },
        "outputId": "fbbf8551-0245-42af-ac10-7458d81c0c53"
      },
      "source": [
        "print('MSE of lr_model_3:{}'.format(mean_squared_error(y_eval,lr_model_3_preds)))"
      ],
      "execution_count": null,
      "outputs": [
        {
          "output_type": "stream",
          "text": [
            "MSE of lr_model_3:126.25355896914343\n"
          ],
          "name": "stdout"
        }
      ]
    },
    {
      "cell_type": "code",
      "metadata": {
        "id": "AjqOaojZcxN1",
        "colab_type": "code",
        "colab": {}
      },
      "source": [
        "steps = [\n",
        "    ('scaler', MinMaxScaler()),\n",
        "    ('poly', PolynomialFeatures(degree=10)),\n",
        "    ('lr', Lasso(alpha=0.01))\n",
        "]"
      ],
      "execution_count": null,
      "outputs": []
    },
    {
      "cell_type": "code",
      "metadata": {
        "id": "Y2CZBrk9c6Ri",
        "colab_type": "code",
        "colab": {}
      },
      "source": [
        "lasso_model=Pipeline(steps)"
      ],
      "execution_count": null,
      "outputs": []
    },
    {
      "cell_type": "code",
      "metadata": {
        "id": "MYvNspiOc9FD",
        "colab_type": "code",
        "colab": {
          "base_uri": "https://localhost:8080/",
          "height": 202
        },
        "outputId": "9fa88386-65fb-49e1-bdc5-b393e4b24f6a"
      },
      "source": [
        "lasso_model.fit(X_train,y_train)"
      ],
      "execution_count": null,
      "outputs": [
        {
          "output_type": "execute_result",
          "data": {
            "text/plain": [
              "Pipeline(memory=None,\n",
              "         steps=[('scaler', MinMaxScaler(copy=True, feature_range=(0, 1))),\n",
              "                ('poly',\n",
              "                 PolynomialFeatures(degree=10, include_bias=True,\n",
              "                                    interaction_only=False, order='C')),\n",
              "                ('lr',\n",
              "                 Lasso(alpha=0.01, copy_X=True, fit_intercept=True,\n",
              "                       max_iter=1000, normalize=False, positive=False,\n",
              "                       precompute=False, random_state=None, selection='cyclic',\n",
              "                       tol=0.0001, warm_start=False))],\n",
              "         verbose=False)"
            ]
          },
          "metadata": {
            "tags": []
          },
          "execution_count": 28
        }
      ]
    },
    {
      "cell_type": "code",
      "metadata": {
        "id": "aCt67G0CdBKC",
        "colab_type": "code",
        "colab": {}
      },
      "source": [
        "lasso_model_preds=lasso_model.predict(X_eval)"
      ],
      "execution_count": null,
      "outputs": []
    },
    {
      "cell_type": "code",
      "metadata": {
        "id": "PeNXbBOZdGmx",
        "colab_type": "code",
        "colab": {
          "base_uri": "https://localhost:8080/",
          "height": 34
        },
        "outputId": "fd863936-b3a0-47da-8976-a9441c4cd9a1"
      },
      "source": [
        "print('R2 for lasso:{}'.format(lasso_model.score(X_eval,y_eval)))"
      ],
      "execution_count": null,
      "outputs": [
        {
          "output_type": "stream",
          "text": [
            "R2 for lasso:0.9418109161488483\n"
          ],
          "name": "stdout"
        }
      ]
    },
    {
      "cell_type": "code",
      "metadata": {
        "id": "GaopH3VLdSE5",
        "colab_type": "code",
        "colab": {
          "base_uri": "https://localhost:8080/",
          "height": 34
        },
        "outputId": "76157a1e-e069-4b61-acac-5aaa471f0537"
      },
      "source": [
        "print('MSE for lasso:{}'.format(mean_squared_error(y_eval,lasso_model_preds)))"
      ],
      "execution_count": null,
      "outputs": [
        {
          "output_type": "stream",
          "text": [
            "MSE for lasso:17.019599185488644\n"
          ],
          "name": "stdout"
        }
      ]
    },
    {
      "cell_type": "markdown",
      "metadata": {
        "id": "8spONgf2ebgw",
        "colab_type": "text"
      },
      "source": [
        "**RIDGE**"
      ]
    },
    {
      "cell_type": "code",
      "metadata": {
        "id": "kVT3q15SejVR",
        "colab_type": "code",
        "colab": {}
      },
      "source": [
        "from sklearn.linear_model import Ridge"
      ],
      "execution_count": null,
      "outputs": []
    },
    {
      "cell_type": "code",
      "metadata": {
        "id": "lYhbTCwVebQr",
        "colab_type": "code",
        "colab": {}
      },
      "source": [
        "steps = [\n",
        "    ('scaler', MinMaxScaler()),\n",
        "    ('poly', PolynomialFeatures(degree=10)),\n",
        "    ('lr', Ridge(alpha=0.9))\n",
        "]"
      ],
      "execution_count": null,
      "outputs": []
    },
    {
      "cell_type": "code",
      "metadata": {
        "id": "9nX9l-Uresr8",
        "colab_type": "code",
        "colab": {}
      },
      "source": [
        "ridge_model=Pipeline(steps)"
      ],
      "execution_count": null,
      "outputs": []
    },
    {
      "cell_type": "code",
      "metadata": {
        "id": "Zakbrbr2e2Ut",
        "colab_type": "code",
        "colab": {
          "base_uri": "https://localhost:8080/",
          "height": 185
        },
        "outputId": "68e37474-3299-4150-bd99-56cd2d07435b"
      },
      "source": [
        "ridge_model.fit(X_train,y_train)"
      ],
      "execution_count": null,
      "outputs": [
        {
          "output_type": "execute_result",
          "data": {
            "text/plain": [
              "Pipeline(memory=None,\n",
              "         steps=[('scaler', MinMaxScaler(copy=True, feature_range=(0, 1))),\n",
              "                ('poly',\n",
              "                 PolynomialFeatures(degree=10, include_bias=True,\n",
              "                                    interaction_only=False, order='C')),\n",
              "                ('lr',\n",
              "                 Ridge(alpha=0.9, copy_X=True, fit_intercept=True,\n",
              "                       max_iter=None, normalize=False, random_state=None,\n",
              "                       solver='auto', tol=0.001))],\n",
              "         verbose=False)"
            ]
          },
          "metadata": {
            "tags": []
          },
          "execution_count": 39
        }
      ]
    },
    {
      "cell_type": "code",
      "metadata": {
        "id": "4_ZeLcjXe5Wn",
        "colab_type": "code",
        "colab": {}
      },
      "source": [
        "ridge_model_preds=ridge_model.predict(X_eval)"
      ],
      "execution_count": null,
      "outputs": []
    },
    {
      "cell_type": "code",
      "metadata": {
        "id": "M7J1OLeHfAri",
        "colab_type": "code",
        "colab": {
          "base_uri": "https://localhost:8080/",
          "height": 50
        },
        "outputId": "c410eddb-95ed-4380-c26a-a96a8417f974"
      },
      "source": [
        "print('R2 for ridge:{}'.format(ridge_model.score(X_eval,y_eval)))\n",
        "print('MSE for ridge:{}'.format(mean_squared_error(y_eval,ridge_model_preds)))"
      ],
      "execution_count": null,
      "outputs": [
        {
          "output_type": "stream",
          "text": [
            "R2 for ridge:0.9451949082623449\n",
            "MSE for ridge:16.02982265685497\n"
          ],
          "name": "stdout"
        }
      ]
    }
  ]
}
